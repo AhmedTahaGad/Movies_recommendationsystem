{
 "cells": [
  {
   "cell_type": "code",
   "execution_count": null,
   "id": "37712148",
   "metadata": {},
   "outputs": [],
   "source": [
    "import pandas as pd"
   ]
  },
  {
   "cell_type": "code",
   "execution_count": null,
   "id": "38086d41",
   "metadata": {},
   "outputs": [],
   "source": [
    "df = pd.read_csv(r\"H:\\ML\\reducedfile.csv\")\n",
    "df"
   ]
  },
  {
   "cell_type": "code",
   "execution_count": null,
   "id": "ce3751b6",
   "metadata": {},
   "outputs": [],
   "source": [
    "df = pd.read_csv(r\"H:\\ML\\reducedfile.csv\", index_col = \"year\")\n",
    "df"
   ]
  },
  {
   "cell_type": "code",
   "execution_count": null,
   "id": "7426bfd8",
   "metadata": {},
   "outputs": [],
   "source": [
    "df.reset_index(inplace=True)"
   ]
  },
  {
   "cell_type": "code",
   "execution_count": null,
   "id": "7f5f0543",
   "metadata": {},
   "outputs": [],
   "source": [
    "df"
   ]
  },
  {
   "cell_type": "code",
   "execution_count": null,
   "id": "0263ce86",
   "metadata": {},
   "outputs": [],
   "source": [
    "df.set_index('year', inplace=True)"
   ]
  },
  {
   "cell_type": "code",
   "execution_count": null,
   "id": "20452b04",
   "metadata": {},
   "outputs": [],
   "source": [
    "df"
   ]
  },
  {
   "cell_type": "code",
   "execution_count": null,
   "id": "9d69718e",
   "metadata": {},
   "outputs": [],
   "source": [
    "df.loc[2019]"
   ]
  },
  {
   "cell_type": "code",
   "execution_count": null,
   "id": "a2196ba8",
   "metadata": {},
   "outputs": [],
   "source": [
    "df.iloc[0]"
   ]
  },
  {
   "cell_type": "code",
   "execution_count": null,
   "id": "a4d7ecca",
   "metadata": {},
   "outputs": [],
   "source": [
    "df.set_index(['year', 'tag'], inplace=True)\n",
    "df"
   ]
  },
  {
   "cell_type": "code",
   "execution_count": null,
   "id": "7285f564",
   "metadata": {},
   "outputs": [],
   "source": [
    "df.reset_index(inplace=True)"
   ]
  },
  {
   "cell_type": "code",
   "execution_count": null,
   "id": "1f1a6b40",
   "metadata": {},
   "outputs": [],
   "source": [
    "df"
   ]
  },
  {
   "cell_type": "code",
   "execution_count": null,
   "id": "abe2de90",
   "metadata": {},
   "outputs": [],
   "source": [
    "df.set_index(['year', 'tag'], inplace=True)\n",
    "df"
   ]
  },
  {
   "cell_type": "code",
   "execution_count": null,
   "id": "d620d31b",
   "metadata": {},
   "outputs": [],
   "source": [
    "df.sort_index()"
   ]
  },
  {
   "cell_type": "code",
   "execution_count": null,
   "id": "9e61b03d",
   "metadata": {},
   "outputs": [],
   "source": [
    "df.head(100)"
   ]
  },
  {
   "cell_type": "code",
   "execution_count": null,
   "id": "a80517b9",
   "metadata": {},
   "outputs": [],
   "source": [
    "df.sort_index(ascending=[True,True])\n",
    "df"
   ]
  },
  {
   "cell_type": "code",
   "execution_count": null,
   "id": "929925a2",
   "metadata": {},
   "outputs": [],
   "source": [
    "df.groupby('tag')"
   ]
  },
  {
   "cell_type": "code",
   "execution_count": null,
   "id": "094131b2",
   "metadata": {},
   "outputs": [],
   "source": [
    "group_by_frame = df.groupby('tag')\n",
    "group_by_frame.count()"
   ]
  },
  {
   "cell_type": "code",
   "execution_count": null,
   "id": "dd312663",
   "metadata": {
    "scrolled": true
   },
   "outputs": [],
   "source": [
    "group_by_frame.sum()"
   ]
  },
  {
   "cell_type": "code",
   "execution_count": null,
   "id": "9fe1f8eb",
   "metadata": {},
   "outputs": [],
   "source": [
    "import pandas as pd\n",
    "import numpy as np\n",
    "import matplotlib.pyplot as plt"
   ]
  },
  {
   "cell_type": "code",
   "execution_count": null,
   "id": "379149b0",
   "metadata": {},
   "outputs": [],
   "source": [
    "df = pd.read_csv(r\"H:\\ML\\Ice Cream Ratings.csv\")\n",
    "df"
   ]
  },
  {
   "cell_type": "code",
   "execution_count": null,
   "id": "5d564966",
   "metadata": {},
   "outputs": [],
   "source": [
    "df= df.set_index('Date')"
   ]
  },
  {
   "cell_type": "code",
   "execution_count": null,
   "id": "c5a2d07e",
   "metadata": {},
   "outputs": [],
   "source": [
    "df['Flavor Rating'].plot(kind='bar', title='Ice Cream Ratings', xlabel='Date', ylabel='Scores', stacked=True)"
   ]
  },
  {
   "cell_type": "code",
   "execution_count": null,
   "id": "4547abba",
   "metadata": {},
   "outputs": [],
   "source": [
    "df.set_index('Date')"
   ]
  },
  {
   "cell_type": "code",
   "execution_count": null,
   "id": "14dff018",
   "metadata": {},
   "outputs": [],
   "source": [
    "df"
   ]
  },
  {
   "cell_type": "code",
   "execution_count": null,
   "id": "833ebf73",
   "metadata": {},
   "outputs": [],
   "source": [
    "df['Flavor Rating'].plot(kind='bar', title='Ice Cream Ratings', xlabel='Date', ylabel='Scores')"
   ]
  },
  {
   "cell_type": "code",
   "execution_count": null,
   "id": "971f9b75",
   "metadata": {},
   "outputs": [],
   "source": [
    "df['Flavor Rating'].plot(kind='bar', title='Ice Cream Ratings', xlabel='Date', ylabel='Scores')"
   ]
  },
  {
   "cell_type": "code",
   "execution_count": null,
   "id": "d6aa7d02",
   "metadata": {},
   "outputs": [],
   "source": [
    "import pandas as pd"
   ]
  },
  {
   "cell_type": "code",
   "execution_count": null,
   "id": "4ffa9c3d",
   "metadata": {},
   "outputs": [],
   "source": [
    "df = pd.read_excel(r\"H:\\ML\\Customer Call List.xlsx\")\n",
    "df"
   ]
  },
  {
   "cell_type": "code",
   "execution_count": null,
   "id": "6168b17d",
   "metadata": {},
   "outputs": [],
   "source": [
    "df.drop_duplicates()"
   ]
  },
  {
   "cell_type": "code",
   "execution_count": null,
   "id": "5f983aeb",
   "metadata": {},
   "outputs": [],
   "source": [
    "import pandas as pd\n",
    "import numpy as np\n",
    "import matplotlib.pyplot as plt\n",
    "from sklearn.preprocessing import MultiLabelBinarizer\n",
    "from sklearn.preprocessing import OneHotEncoder\n",
    "from sklearn.feature_extraction.text import TfidfVectorizer\n",
    "from sklearn.metrics.pairwise import cosine_similarity"
   ]
  },
  {
   "cell_type": "code",
   "execution_count": null,
   "id": "92753845",
   "metadata": {},
   "outputs": [],
   "source": [
    "df=pd.read_csv(r\"H:ML\\reducedfile.csv\")\n",
    "df"
   ]
  },
  {
   "cell_type": "code",
   "execution_count": null,
   "id": "7e8c6860",
   "metadata": {},
   "outputs": [],
   "source": [
    "na=df[df['title'].isna()]\n",
    "na"
   ]
  },
  {
   "cell_type": "code",
   "execution_count": null,
   "id": "177b6bad",
   "metadata": {},
   "outputs": [],
   "source": [
    "df.dropna(subset=\"title\",inplace=True)\n",
    "df"
   ]
  },
  {
   "cell_type": "code",
   "execution_count": null,
   "id": "dfab8cf7",
   "metadata": {},
   "outputs": [],
   "source": [
    "language_na=df[df['language'].isna()]\n",
    "language_na"
   ]
  },
  {
   "cell_type": "code",
   "execution_count": null,
   "id": "6b221456",
   "metadata": {},
   "outputs": [],
   "source": [
    "df[\"features\"] = df[\"features\"].str.replace('{}','None')\n",
    "df"
   ]
  },
  {
   "cell_type": "code",
   "execution_count": null,
   "id": "972bd7b3",
   "metadata": {},
   "outputs": [],
   "source": [
    "df=df.fillna('Not Specified')\n",
    "df"
   ]
  },
  {
   "cell_type": "code",
   "execution_count": null,
   "id": "91134bce",
   "metadata": {},
   "outputs": [],
   "source": [
    "df.isna().sum()"
   ]
  },
  {
   "cell_type": "code",
   "execution_count": null,
   "id": "f920ffc1",
   "metadata": {
    "scrolled": true
   },
   "outputs": [],
   "source": [
    "for x in df.index:\n",
    "    if df.loc[x,'year']<1900:\n",
    "        df.drop(x,inplace=True)\n",
    "df"
   ]
  },
  {
   "cell_type": "code",
   "execution_count": null,
   "id": "a478673c",
   "metadata": {},
   "outputs": [],
   "source": [
    "df=df.drop_duplicates()\n",
    "df"
   ]
  },
  {
   "cell_type": "code",
   "execution_count": null,
   "id": "b0e2e254",
   "metadata": {},
   "outputs": [],
   "source": [
    "# Extract the columns to be encoded\n",
    "data_to_encode = df[['language_cld3', 'language_ft', 'language']]\n",
    "\n",
    "# Create an instance of the MultiLabelBinarizer\n",
    "encoder = MultiLabelBinarizer()\n",
    "\n",
    "# Fit and transform the data\n",
    "encoded_data = encoder.fit_transform(data_to_encode.values)\n",
    "\n",
    "# Create a DataFrame with the encoded data and column names\n",
    "encoded_df = pd.DataFrame(encoded_data, columns=encoder.classes_)\n",
    "\n",
    "# Concatenate the encoded DataFrame with the original DataFrame\n",
    "df_encoded = pd.concat([df, encoded_df], axis=1)\n",
    "\n",
    "# Drop the original columns\n",
    "df_encoded.drop(columns=columns_to_encode, inplace=True)\n",
    "\n",
    "# Display the encoded DataFrame\n",
    "df_encoded"
   ]
  },
  {
   "cell_type": "code",
   "execution_count": null,
   "id": "2ea4d1b4",
   "metadata": {},
   "outputs": [],
   "source": [
    "df.columns"
   ]
  },
  {
   "cell_type": "code",
   "execution_count": null,
   "id": "8e279057",
   "metadata": {},
   "outputs": [],
   "source": [
    "df"
   ]
  },
  {
   "cell_type": "code",
   "execution_count": null,
   "id": "f3168fd3",
   "metadata": {},
   "outputs": [],
   "source": [
    "df=pd.read_csv(r\"H:\\ML\\reducedfile.csv\")\n",
    "df"
   ]
  },
  {
   "cell_type": "code",
   "execution_count": null,
   "id": "bfe1160a",
   "metadata": {},
   "outputs": [],
   "source": [
    "na=df[df['title'].isna()]\n",
    "na"
   ]
  },
  {
   "cell_type": "code",
   "execution_count": null,
   "id": "33631f4a",
   "metadata": {},
   "outputs": [],
   "source": [
    "df.dropna(subset=\"title\",inplace=True)\n",
    "df\n"
   ]
  },
  {
   "cell_type": "code",
   "execution_count": null,
   "id": "746de28e",
   "metadata": {},
   "outputs": [],
   "source": [
    "language_na=df[df['language'].isna()]\n",
    "language_na"
   ]
  },
  {
   "cell_type": "code",
   "execution_count": null,
   "id": "1425d966",
   "metadata": {},
   "outputs": [],
   "source": [
    "df[\"features\"] = df[\"features\"].str.replace('{}','None')\n",
    "df"
   ]
  },
  {
   "cell_type": "code",
   "execution_count": null,
   "id": "6dc81acf",
   "metadata": {},
   "outputs": [],
   "source": [
    "df=df.fillna('Not Specified')\n",
    "df"
   ]
  },
  {
   "cell_type": "code",
   "execution_count": null,
   "id": "128df715",
   "metadata": {},
   "outputs": [],
   "source": [
    "for x in df.index:\n",
    "    if df.loc[x,'year']<1900:\n",
    "        df.drop(x,inplace=True)\n",
    "df"
   ]
  },
  {
   "cell_type": "code",
   "execution_count": null,
   "id": "7825a379",
   "metadata": {},
   "outputs": [],
   "source": [
    "data_to_encode = df[['language_cld3', 'language_ft', 'language']]"
   ]
  },
  {
   "cell_type": "code",
   "execution_count": null,
   "id": "9093f109",
   "metadata": {},
   "outputs": [],
   "source": [
    "encoder = MultiLabelBinarizer()\n",
    "encoded_data = encoder.fit_transform(data_to_encode.values)\n",
    "encoded_df = pd.DataFrame(encoded_data, columns=encoder.classes_)\n",
    "df_encoded = pd.concat([df, encoded_df], axis=1)"
   ]
  },
  {
   "cell_type": "code",
   "execution_count": null,
   "id": "bbe68c77",
   "metadata": {},
   "outputs": [],
   "source": [
    "df"
   ]
  },
  {
   "cell_type": "code",
   "execution_count": null,
   "id": "d55e4df6",
   "metadata": {},
   "outputs": [],
   "source": [
    "import spacy as sp"
   ]
  },
  {
   "cell_type": "code",
   "execution_count": null,
   "id": "1878eddc",
   "metadata": {},
   "outputs": [],
   "source": [
    "#python -m spacy download en_core_web_lg"
   ]
  },
  {
   "cell_type": "code",
   "execution_count": null,
   "id": "0e5f759e",
   "metadata": {},
   "outputs": [],
   "source": [
    "import spacy\n",
    "nlp = spacy.load('en_core_web_lg')"
   ]
  },
  {
   "cell_type": "code",
   "execution_count": null,
   "id": "4f7de9ef",
   "metadata": {},
   "outputs": [],
   "source": [
    "nlp(u'lion').vector"
   ]
  },
  {
   "cell_type": "code",
   "execution_count": null,
   "id": "574f4782",
   "metadata": {},
   "outputs": [],
   "source": [
    "len(nlp(u'lion').vector)"
   ]
  },
  {
   "cell_type": "code",
   "execution_count": null,
   "id": "887015ca",
   "metadata": {},
   "outputs": [],
   "source": [
    "df"
   ]
  },
  {
   "cell_type": "code",
   "execution_count": null,
   "id": "8c250c54",
   "metadata": {},
   "outputs": [],
   "source": [
    "label_encoder = LabelEncoder()\n",
    "text_values = np.array(df['artist'])\n",
    "df['artist'] = label_encoder.fit_transform(text_values)\n",
    "df"
   ]
  },
  {
   "cell_type": "code",
   "execution_count": null,
   "id": "b45f9186",
   "metadata": {},
   "outputs": [],
   "source": [
    "import pandas as pd\n",
    "import numpy as np\n",
    "import matplotlib.pyplot as plt\n",
    "from sklearn.preprocessing import MultiLabelBinarizer\n",
    "from sklearn.preprocessing import OneHotEncoder\n",
    "from sklearn.feature_extraction.text import TfidfVectorizer\n",
    "from sklearn.metrics.pairwise import cosine_similarity\n",
    "from sklearn.preprocessing import LabelEncoder\n",
    "from sklearn.linear_model import LinearRegression\n",
    "from sklearn.model_selection import train_test_split\n",
    "from sklearn.metrics import mean_squared_error\n",
    "from sklearn.metrics import mean_absolute_error\n",
    "from sklearn.metrics import r2_score"
   ]
  },
  {
   "cell_type": "code",
   "execution_count": null,
   "id": "5cf73e1f",
   "metadata": {},
   "outputs": [],
   "source": [
    "df"
   ]
  },
  {
   "cell_type": "code",
   "execution_count": null,
   "id": "467a7b54",
   "metadata": {},
   "outputs": [],
   "source": [
    "label_encoder = LabelEncoder()\n",
    "text_values = np.array(df['artist'])\n",
    "df['artist'] = label_encoder.fit_transform(text_values)\n",
    "df"
   ]
  },
  {
   "cell_type": "code",
   "execution_count": null,
   "id": "44d0d280",
   "metadata": {},
   "outputs": [],
   "source": [
    "data_to_encode = df[['language_cld3', 'language_ft', 'language']]"
   ]
  },
  {
   "cell_type": "code",
   "execution_count": null,
   "id": "06f360b8",
   "metadata": {},
   "outputs": [],
   "source": [
    "encoder = MultiLabelBinarizer()\n",
    "encoded_data = encoder.fit_transform(data_to_encode.values)\n",
    "encoded_df = pd.DataFrame(encoded_data, columns=encoder.classes_)\n",
    "df2 = pd.concat([df, encoded_df], axis=1)\n",
    "df2.drop(columns=columns_to_encode, inplace=True)\n",
    "df2"
   ]
  },
  {
   "cell_type": "code",
   "execution_count": null,
   "id": "430d3026",
   "metadata": {},
   "outputs": [],
   "source": [
    "encoder = OneHotEncoder(sparse_output=False)"
   ]
  },
  {
   "cell_type": "code",
   "execution_count": null,
   "id": "dc21f56d",
   "metadata": {},
   "outputs": [],
   "source": [
    "text_values = df2['tag'].values.reshape(-1, 1)"
   ]
  },
  {
   "cell_type": "code",
   "execution_count": null,
   "id": "c6619183",
   "metadata": {},
   "outputs": [],
   "source": [
    "encoded_features = encoder.fit_transform(text_values)"
   ]
  },
  {
   "cell_type": "code",
   "execution_count": null,
   "id": "f9b0a0f6",
   "metadata": {},
   "outputs": [],
   "source": [
    "encoded_df = pd.DataFrame(encoded_features, columns=encoder.get_feature_names_out(['tag']))"
   ]
  },
  {
   "cell_type": "code",
   "execution_count": null,
   "id": "9206663b",
   "metadata": {},
   "outputs": [],
   "source": [
    "df_encoded = pd.concat([df2, encoded_df], axis=1)"
   ]
  },
  {
   "cell_type": "code",
   "execution_count": null,
   "id": "d0e9f455",
   "metadata": {},
   "outputs": [],
   "source": [
    "df_encoded.drop(columns=['tag'], inplace=True)\n",
    "df_encoded"
   ]
  },
  {
   "cell_type": "code",
   "execution_count": null,
   "id": "de2e7074",
   "metadata": {},
   "outputs": [],
   "source": [
    "df2=df_encoded\n",
    "df2"
   ]
  },
  {
   "cell_type": "code",
   "execution_count": null,
   "id": "f7adc640",
   "metadata": {},
   "outputs": [],
   "source": [
    "X = df2.drop(columns=[\"views\",\"title\",\"lyrics\",\"features\"],axis=1)"
   ]
  },
  {
   "cell_type": "code",
   "execution_count": null,
   "id": "c52cbc3c",
   "metadata": {},
   "outputs": [],
   "source": [
    "X_train, X_test, y_train, y_test = train_test_split(X, y, test_size=0.2, random_state=50)\n",
    "lg = LinearRegression()\n",
    "\n",
    "# Fit the linear regression model to the training data\n",
    "lg.fit(X_train, y_train)\n",
    "\n",
    "# Make predictions on the test set\n",
    "y_pred = reg.predict(X_test)\n",
    "\n",
    "r2 = r2_score(y_test, y_pred)\n",
    "print(\"rSquared :\", r2)"
   ]
  }
 ],
 "metadata": {
  "kernelspec": {
   "display_name": "Python 3 (ipykernel)",
   "language": "python",
   "name": "python3"
  },
  "language_info": {
   "codemirror_mode": {
    "name": "ipython",
    "version": 3
   },
   "file_extension": ".py",
   "mimetype": "text/x-python",
   "name": "python",
   "nbconvert_exporter": "python",
   "pygments_lexer": "ipython3",
   "version": "3.11.4"
  }
 },
 "nbformat": 4,
 "nbformat_minor": 5
}
